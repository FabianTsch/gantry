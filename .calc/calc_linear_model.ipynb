{
 "cells": [
  {
   "cell_type": "markdown",
   "id": "095ae87a",
   "metadata": {},
   "source": [
    "## Linearisierung\n",
    "\n",
    "Berechnung der Linearisierung von $\\dot{p}_{\\varphi}$"
   ]
  },
  {
   "cell_type": "code",
   "execution_count": 2,
   "id": "32346035",
   "metadata": {},
   "outputs": [
    {
     "name": "stdout",
     "output_type": "stream",
     "text": [
      "Berechnung alle partiellen Ableitungen\n"
     ]
    },
    {
     "data": {
      "text/latex": [
       "$\\displaystyle 0$"
      ],
      "text/plain": [
       "0"
      ]
     },
     "metadata": {},
     "output_type": "display_data"
    },
    {
     "data": {
      "text/latex": [
       "$\\displaystyle - 4 k l^{2}$"
      ],
      "text/plain": [
       "-4*k*l**2"
      ]
     },
     "metadata": {},
     "output_type": "display_data"
    },
    {
     "data": {
      "text/latex": [
       "$\\displaystyle 0$"
      ],
      "text/plain": [
       "0"
      ]
     },
     "metadata": {},
     "output_type": "display_data"
    },
    {
     "data": {
      "text/latex": [
       "$\\displaystyle 0$"
      ],
      "text/plain": [
       "0"
      ]
     },
     "metadata": {},
     "output_type": "display_data"
    },
    {
     "data": {
      "text/latex": [
       "$\\displaystyle 0$"
      ],
      "text/plain": [
       "0"
      ]
     },
     "metadata": {},
     "output_type": "display_data"
    },
    {
     "data": {
      "text/latex": [
       "$\\displaystyle 0$"
      ],
      "text/plain": [
       "0"
      ]
     },
     "metadata": {},
     "output_type": "display_data"
    },
    {
     "data": {
      "text/latex": [
       "$\\displaystyle 0$"
      ],
      "text/plain": [
       "0"
      ]
     },
     "metadata": {},
     "output_type": "display_data"
    },
    {
     "data": {
      "text/latex": [
       "$\\displaystyle 0$"
      ],
      "text/plain": [
       "0"
      ]
     },
     "metadata": {},
     "output_type": "display_data"
    }
   ],
   "source": [
    "import sympy as sp \n",
    "\n",
    "x1,x2,z1,z2,phi,dx1,dx2,p1,p2,pphi = sp.symbols(\"x_1 x_2 z_1 z_2 \\\\phi \\\\dot{x}_1 \\\\dot{x}_2 p_1 p_2 p_{\\\\phi}\")\n",
    "\n",
    "k,l,dphi,dz1,dz2,m = sp.symbols(\"k l \\\\dot{\\\\phi} \\\\dot{z}_1 \\\\dot{z}_2 m\")\n",
    "\n",
    "\n",
    "f = (-4*k*l**2*sp.sin(phi) + \n",
    "        m * (-dphi*dz1*x1 - dphi*dz2*x1 - dz1*dx1 + dx1*dz2)*sp.cos(phi)+\n",
    "        m * (dphi*dz1*x2 - dphi*dz2*x1 - dz2*dx1 - dz2*dx1)* sp.sin(phi))\n",
    "ruhelage = {z1:0,z2:0,phi:0,dx1:0,dx2:0,p1:0,p2:0,pphi:0,dphi:0,dz1:0,dz2:0}\n",
    "\n",
    "print(\"Berechnung alle partiellen Ableitungen\")\n",
    "dfdphi = sp.simplify(sp.diff(f,dphi)).subs(ruhelage)\n",
    "display(dfdphi)\n",
    "dfphi = sp.simplify(sp.diff(f,phi)).subs(ruhelage)\n",
    "display(dfphi)\n",
    "dfdz1 = sp.simplify(sp.diff(f,dz1)).subs(ruhelage)\n",
    "display(dfdz1)\n",
    "dfdz2 = sp.simplify(sp.diff(f,dz2)).subs(ruhelage)\n",
    "display(dfdz2)\n",
    "dfx1 = sp.simplify(sp.diff(f,x1)).subs(ruhelage)\n",
    "display(dfx1)\n",
    "dfx2 = sp.simplify(sp.diff(f,x2)).subs(ruhelage)\n",
    "display(dfx2)\n",
    "dfdx1 = sp.simplify(sp.diff(f,dx1)).subs(ruhelage)\n",
    "display(dfdx1)\n",
    "dfdx2 = sp.simplify(sp.diff(f,dx2)).subs(ruhelage)\n",
    "display(dfdx2)"
   ]
  },
  {
   "cell_type": "markdown",
   "id": "93c603ed",
   "metadata": {},
   "source": [
    "Alle partiellen Ableitungen um die Ruhenlage sind Null abgesehen von der Ableitung nach $\\varphi$\n",
    "\n",
    "## Berechnung der Ausgangleichungen"
   ]
  },
  {
   "cell_type": "code",
   "execution_count": 9,
   "id": "beafd9a2",
   "metadata": {},
   "outputs": [
    {
     "data": {
      "text/latex": [
       "$\\displaystyle - x_{1} \\sin{\\left(\\phi \\right)} - x_{2} \\cos{\\left(\\phi \\right)}$"
      ],
      "text/plain": [
       "-x_1*sin(\\phi) - x_2*cos(\\phi)"
      ]
     },
     "metadata": {},
     "output_type": "display_data"
    },
    {
     "data": {
      "text/latex": [
       "$\\displaystyle x_{1} \\cos{\\left(\\phi \\right)} - x_{2} \\sin{\\left(\\phi \\right)}$"
      ],
      "text/plain": [
       "x_1*cos(\\phi) - x_2*sin(\\phi)"
      ]
     },
     "metadata": {},
     "output_type": "display_data"
    }
   ],
   "source": [
    "y1 = z1 + x1*sp.cos(phi) - x2*sp.sin(phi)\n",
    "y2 = z2 + x1*sp.sin(phi) + x2*sp.cos(phi)\n",
    "\n",
    "dy1phi = sp.diff(y1,phi)\n",
    "display(dy1phi)\n",
    "dy2phi = sp.diff(y2,phi)\n",
    "display(dy2phi)"
   ]
  },
  {
   "cell_type": "code",
   "execution_count": null,
   "id": "4b355039",
   "metadata": {},
   "outputs": [],
   "source": []
  }
 ],
 "metadata": {
  "kernelspec": {
   "display_name": "Python 3 (ipykernel)",
   "language": "python",
   "name": "python3"
  },
  "language_info": {
   "codemirror_mode": {
    "name": "ipython",
    "version": 3
   },
   "file_extension": ".py",
   "mimetype": "text/x-python",
   "name": "python",
   "nbconvert_exporter": "python",
   "pygments_lexer": "ipython3",
   "version": "3.10.9"
  }
 },
 "nbformat": 4,
 "nbformat_minor": 5
}
